{
  "cells": [
    {
      "cell_type": "code",
      "execution_count": null,
      "metadata": {
        "id": "II0ngDdhV7zj"
      },
      "outputs": [],
      "source": [
        "# обеспечиваем совместимость с Python 2 и 3\n",
        "from __future__ import (absolute_import, division, print_function, unicode_literals)\n",
        "\n",
        "# отключаем предупреждения дистрибутива Anaconda\n",
        "import warnings\n",
        "warnings.simplefilter('ignore')"
      ]
    },
    {
      "cell_type": "markdown",
      "metadata": {
        "id": "z8_qDPQLV7zl"
      },
      "source": [
        "**Описание датасета:**   \n",
        "[Датасет вакансий с платформы HH.ru на Kaggle.com](https://www.kaggle.com/datasets/pavfedotov/heaadhunter-vacancies?resource=download&select=df2021-08-03.csv) \n",
        "\n",
        "Нужный файл - df2021-08-03.csv.\n",
        "\n",
        "- *vacancy* - наименование вакансии\n",
        "- *url* - ссылка на вакансию\n",
        "- *created* - дата и время создания\n",
        "- *has_test* - наличие тестового задания в вакансии\n",
        "- *salary_from* - нижняя граница значения заработной платы\n",
        "- *salary_to* - верхняя граница значения заработной платы\n",
        "- *currency* - валюта заработной платы\n",
        "- *experience* - требуемый опыт\n",
        "- *schedule* - тип рабочего графика\n",
        "- *skills* - требуемые навыки\n",
        "- *employer* - наименование работодателя\n",
        "- *area* - наименование города\n",
        "- *description* - описание вакансии"
      ]
    },
    {
      "cell_type": "markdown",
      "metadata": {
        "id": "WFO94Ct6V7zl"
      },
      "source": [
        "#### Загрузите датасет"
      ]
    },
    {
      "cell_type": "code",
      "source": [
        "#Необходимые библиотеки\n",
        "import pandas as pd\n",
        "import matplotlib.pyplot as plt\n",
        "import re\n",
        "import plotly.express as px"
      ],
      "metadata": {
        "id": "pxlHrPTe1cwQ"
      },
      "execution_count": null,
      "outputs": []
    },
    {
      "cell_type": "code",
      "source": [
        "from google.colab import drive\n",
        "drive.mount('/content/drive')"
      ],
      "metadata": {
        "colab": {
          "base_uri": "https://localhost:8080/"
        },
        "id": "-A6lY0Pd0L08",
        "outputId": "e8917deb-569a-4663-c18e-0af4d09defa6"
      },
      "execution_count": null,
      "outputs": [
        {
          "output_type": "stream",
          "name": "stdout",
          "text": [
            "Mounted at /content/drive\n"
          ]
        }
      ]
    },
    {
      "cell_type": "code",
      "execution_count": null,
      "metadata": {
        "id": "9VwmtoJ2V7zm"
      },
      "outputs": [],
      "source": [
        "df = pd.read_csv('/content/drive/MyDrive/df2021-08-03.csv')\n"
      ]
    },
    {
      "cell_type": "code",
      "source": [
        "df.head()"
      ],
      "metadata": {
        "colab": {
          "base_uri": "https://localhost:8080/",
          "height": 582
        },
        "id": "safVrKs33OEu",
        "outputId": "df54f17e-06c1-40cd-df8f-d22524b7573c"
      },
      "execution_count": null,
      "outputs": [
        {
          "output_type": "execute_result",
          "data": {
            "text/plain": [
              "                                             vacancy  \\\n",
              "0              Backend/Full-stack developer (python)   \n",
              "1  Бэкенд-разработчик (Python) / Middle Python / ...   \n",
              "2       Fullstack Middle Python (Django) / VueJS Dev   \n",
              "3                                   Python Developer   \n",
              "4                             QA Automation (Python)   \n",
              "\n",
              "                                                 url  \\\n",
              "0  https://hh.ru/applicant/vacancy_response?vacan...   \n",
              "1  https://hh.ru/applicant/vacancy_response?vacan...   \n",
              "2  https://hh.ru/applicant/vacancy_response?vacan...   \n",
              "3  https://hh.ru/applicant/vacancy_response?vacan...   \n",
              "4  https://hh.ru/applicant/vacancy_response?vacan...   \n",
              "\n",
              "                    created  has_test  salary_from  salary_to currency  \\\n",
              "0  2021-08-01T13:02:48+0300     False     120000.0        NaN      RUR   \n",
              "1  2021-07-09T08:13:01+0300     False     150000.0   220000.0      RUR   \n",
              "2  2021-07-21T15:24:16+0300     False          NaN        NaN      NaN   \n",
              "3  2021-07-28T12:57:57+0300     False          NaN        NaN      NaN   \n",
              "4  2021-07-31T17:10:49+0300     False          NaN        NaN      NaN   \n",
              "\n",
              "           experience          schedule  \\\n",
              "0  От 1 года до 3 лет     Гибкий график   \n",
              "1       От 3 до 6 лет  Удаленная работа   \n",
              "2  От 1 года до 3 лет       Полный день   \n",
              "3       От 3 до 6 лет  Удаленная работа   \n",
              "4  От 1 года до 3 лет  Удаленная работа   \n",
              "\n",
              "                                              skills             employer  \\\n",
              "0                     Python;PostgreSQL;Linux;Flask;               ATI.SU   \n",
              "1    Python;Git;MongoDB;Redis;Design Patterns;Flask;  ЮТэйр, Авиакомпания   \n",
              "2  Python;Git;Django Framework;PostgreSQL;Linux;V...                 КРОК   \n",
              "3                       Python;Django Framework;CSS;             Mad Devs   \n",
              "4                    Python;Pytest;Ansible;Selenium;    Аренадата Софтвер   \n",
              "\n",
              "                        area  \\\n",
              "0            Санкт-Петербург   \n",
              "1  Киров (Кировская область)   \n",
              "2                     Москва   \n",
              "3                  Краснодар   \n",
              "4                     Москва   \n",
              "\n",
              "                                         description  \n",
              "0  Привет! Мы ATI.SU ― крупнейшая в России компан...  \n",
              "1  Utair - российская авиакомпания. Мы летаем по ...  \n",
              "2  В команду, которая занимается разработкой инст...  \n",
              "3  Mad Devs - full stack команда для разработки и...  \n",
              "4  Arenadata — динамично развивающаяся компания, ...  "
            ],
            "text/html": [
              "\n",
              "  <div id=\"df-55017bf3-bf29-438a-81ef-b5267a6a8044\">\n",
              "    <div class=\"colab-df-container\">\n",
              "      <div>\n",
              "<style scoped>\n",
              "    .dataframe tbody tr th:only-of-type {\n",
              "        vertical-align: middle;\n",
              "    }\n",
              "\n",
              "    .dataframe tbody tr th {\n",
              "        vertical-align: top;\n",
              "    }\n",
              "\n",
              "    .dataframe thead th {\n",
              "        text-align: right;\n",
              "    }\n",
              "</style>\n",
              "<table border=\"1\" class=\"dataframe\">\n",
              "  <thead>\n",
              "    <tr style=\"text-align: right;\">\n",
              "      <th></th>\n",
              "      <th>vacancy</th>\n",
              "      <th>url</th>\n",
              "      <th>created</th>\n",
              "      <th>has_test</th>\n",
              "      <th>salary_from</th>\n",
              "      <th>salary_to</th>\n",
              "      <th>currency</th>\n",
              "      <th>experience</th>\n",
              "      <th>schedule</th>\n",
              "      <th>skills</th>\n",
              "      <th>employer</th>\n",
              "      <th>area</th>\n",
              "      <th>description</th>\n",
              "    </tr>\n",
              "  </thead>\n",
              "  <tbody>\n",
              "    <tr>\n",
              "      <th>0</th>\n",
              "      <td>Backend/Full-stack developer (python)</td>\n",
              "      <td>https://hh.ru/applicant/vacancy_response?vacan...</td>\n",
              "      <td>2021-08-01T13:02:48+0300</td>\n",
              "      <td>False</td>\n",
              "      <td>120000.0</td>\n",
              "      <td>NaN</td>\n",
              "      <td>RUR</td>\n",
              "      <td>От 1 года до 3 лет</td>\n",
              "      <td>Гибкий график</td>\n",
              "      <td>Python;PostgreSQL;Linux;Flask;</td>\n",
              "      <td>ATI.SU</td>\n",
              "      <td>Санкт-Петербург</td>\n",
              "      <td>Привет! Мы ATI.SU ― крупнейшая в России компан...</td>\n",
              "    </tr>\n",
              "    <tr>\n",
              "      <th>1</th>\n",
              "      <td>Бэкенд-разработчик (Python) / Middle Python / ...</td>\n",
              "      <td>https://hh.ru/applicant/vacancy_response?vacan...</td>\n",
              "      <td>2021-07-09T08:13:01+0300</td>\n",
              "      <td>False</td>\n",
              "      <td>150000.0</td>\n",
              "      <td>220000.0</td>\n",
              "      <td>RUR</td>\n",
              "      <td>От 3 до 6 лет</td>\n",
              "      <td>Удаленная работа</td>\n",
              "      <td>Python;Git;MongoDB;Redis;Design Patterns;Flask;</td>\n",
              "      <td>ЮТэйр, Авиакомпания</td>\n",
              "      <td>Киров (Кировская область)</td>\n",
              "      <td>Utair - российская авиакомпания. Мы летаем по ...</td>\n",
              "    </tr>\n",
              "    <tr>\n",
              "      <th>2</th>\n",
              "      <td>Fullstack Middle Python (Django) / VueJS Dev</td>\n",
              "      <td>https://hh.ru/applicant/vacancy_response?vacan...</td>\n",
              "      <td>2021-07-21T15:24:16+0300</td>\n",
              "      <td>False</td>\n",
              "      <td>NaN</td>\n",
              "      <td>NaN</td>\n",
              "      <td>NaN</td>\n",
              "      <td>От 1 года до 3 лет</td>\n",
              "      <td>Полный день</td>\n",
              "      <td>Python;Git;Django Framework;PostgreSQL;Linux;V...</td>\n",
              "      <td>КРОК</td>\n",
              "      <td>Москва</td>\n",
              "      <td>В команду, которая занимается разработкой инст...</td>\n",
              "    </tr>\n",
              "    <tr>\n",
              "      <th>3</th>\n",
              "      <td>Python Developer</td>\n",
              "      <td>https://hh.ru/applicant/vacancy_response?vacan...</td>\n",
              "      <td>2021-07-28T12:57:57+0300</td>\n",
              "      <td>False</td>\n",
              "      <td>NaN</td>\n",
              "      <td>NaN</td>\n",
              "      <td>NaN</td>\n",
              "      <td>От 3 до 6 лет</td>\n",
              "      <td>Удаленная работа</td>\n",
              "      <td>Python;Django Framework;CSS;</td>\n",
              "      <td>Mad Devs</td>\n",
              "      <td>Краснодар</td>\n",
              "      <td>Mad Devs - full stack команда для разработки и...</td>\n",
              "    </tr>\n",
              "    <tr>\n",
              "      <th>4</th>\n",
              "      <td>QA Automation (Python)</td>\n",
              "      <td>https://hh.ru/applicant/vacancy_response?vacan...</td>\n",
              "      <td>2021-07-31T17:10:49+0300</td>\n",
              "      <td>False</td>\n",
              "      <td>NaN</td>\n",
              "      <td>NaN</td>\n",
              "      <td>NaN</td>\n",
              "      <td>От 1 года до 3 лет</td>\n",
              "      <td>Удаленная работа</td>\n",
              "      <td>Python;Pytest;Ansible;Selenium;</td>\n",
              "      <td>Аренадата Софтвер</td>\n",
              "      <td>Москва</td>\n",
              "      <td>Arenadata — динамично развивающаяся компания, ...</td>\n",
              "    </tr>\n",
              "  </tbody>\n",
              "</table>\n",
              "</div>\n",
              "      <button class=\"colab-df-convert\" onclick=\"convertToInteractive('df-55017bf3-bf29-438a-81ef-b5267a6a8044')\"\n",
              "              title=\"Convert this dataframe to an interactive table.\"\n",
              "              style=\"display:none;\">\n",
              "        \n",
              "  <svg xmlns=\"http://www.w3.org/2000/svg\" height=\"24px\"viewBox=\"0 0 24 24\"\n",
              "       width=\"24px\">\n",
              "    <path d=\"M0 0h24v24H0V0z\" fill=\"none\"/>\n",
              "    <path d=\"M18.56 5.44l.94 2.06.94-2.06 2.06-.94-2.06-.94-.94-2.06-.94 2.06-2.06.94zm-11 1L8.5 8.5l.94-2.06 2.06-.94-2.06-.94L8.5 2.5l-.94 2.06-2.06.94zm10 10l.94 2.06.94-2.06 2.06-.94-2.06-.94-.94-2.06-.94 2.06-2.06.94z\"/><path d=\"M17.41 7.96l-1.37-1.37c-.4-.4-.92-.59-1.43-.59-.52 0-1.04.2-1.43.59L10.3 9.45l-7.72 7.72c-.78.78-.78 2.05 0 2.83L4 21.41c.39.39.9.59 1.41.59.51 0 1.02-.2 1.41-.59l7.78-7.78 2.81-2.81c.8-.78.8-2.07 0-2.86zM5.41 20L4 18.59l7.72-7.72 1.47 1.35L5.41 20z\"/>\n",
              "  </svg>\n",
              "      </button>\n",
              "      \n",
              "  <style>\n",
              "    .colab-df-container {\n",
              "      display:flex;\n",
              "      flex-wrap:wrap;\n",
              "      gap: 12px;\n",
              "    }\n",
              "\n",
              "    .colab-df-convert {\n",
              "      background-color: #E8F0FE;\n",
              "      border: none;\n",
              "      border-radius: 50%;\n",
              "      cursor: pointer;\n",
              "      display: none;\n",
              "      fill: #1967D2;\n",
              "      height: 32px;\n",
              "      padding: 0 0 0 0;\n",
              "      width: 32px;\n",
              "    }\n",
              "\n",
              "    .colab-df-convert:hover {\n",
              "      background-color: #E2EBFA;\n",
              "      box-shadow: 0px 1px 2px rgba(60, 64, 67, 0.3), 0px 1px 3px 1px rgba(60, 64, 67, 0.15);\n",
              "      fill: #174EA6;\n",
              "    }\n",
              "\n",
              "    [theme=dark] .colab-df-convert {\n",
              "      background-color: #3B4455;\n",
              "      fill: #D2E3FC;\n",
              "    }\n",
              "\n",
              "    [theme=dark] .colab-df-convert:hover {\n",
              "      background-color: #434B5C;\n",
              "      box-shadow: 0px 1px 3px 1px rgba(0, 0, 0, 0.15);\n",
              "      filter: drop-shadow(0px 1px 2px rgba(0, 0, 0, 0.3));\n",
              "      fill: #FFFFFF;\n",
              "    }\n",
              "  </style>\n",
              "\n",
              "      <script>\n",
              "        const buttonEl =\n",
              "          document.querySelector('#df-55017bf3-bf29-438a-81ef-b5267a6a8044 button.colab-df-convert');\n",
              "        buttonEl.style.display =\n",
              "          google.colab.kernel.accessAllowed ? 'block' : 'none';\n",
              "\n",
              "        async function convertToInteractive(key) {\n",
              "          const element = document.querySelector('#df-55017bf3-bf29-438a-81ef-b5267a6a8044');\n",
              "          const dataTable =\n",
              "            await google.colab.kernel.invokeFunction('convertToInteractive',\n",
              "                                                     [key], {});\n",
              "          if (!dataTable) return;\n",
              "\n",
              "          const docLinkHtml = 'Like what you see? Visit the ' +\n",
              "            '<a target=\"_blank\" href=https://colab.research.google.com/notebooks/data_table.ipynb>data table notebook</a>'\n",
              "            + ' to learn more about interactive tables.';\n",
              "          element.innerHTML = '';\n",
              "          dataTable['output_type'] = 'display_data';\n",
              "          await google.colab.output.renderOutput(dataTable, element);\n",
              "          const docLink = document.createElement('div');\n",
              "          docLink.innerHTML = docLinkHtml;\n",
              "          element.appendChild(docLink);\n",
              "        }\n",
              "      </script>\n",
              "    </div>\n",
              "  </div>\n",
              "  "
            ]
          },
          "metadata": {},
          "execution_count": 7
        }
      ]
    },
    {
      "cell_type": "code",
      "source": [
        "#Поиск пустых значений\n",
        "df.isnull().sum()"
      ],
      "metadata": {
        "colab": {
          "base_uri": "https://localhost:8080/"
        },
        "id": "5Amybzz83Hd7",
        "outputId": "f711b505-4368-4edd-c9b7-a7532d318ac9"
      },
      "execution_count": null,
      "outputs": [
        {
          "output_type": "execute_result",
          "data": {
            "text/plain": [
              "vacancy           0\n",
              "url               0\n",
              "created           0\n",
              "has_test          0\n",
              "salary_from    1162\n",
              "salary_to      1267\n",
              "currency       1087\n",
              "experience        0\n",
              "schedule          0\n",
              "skills          210\n",
              "employer          0\n",
              "area              0\n",
              "description       0\n",
              "dtype: int64"
            ]
          },
          "metadata": {},
          "execution_count": 8
        }
      ]
    },
    {
      "cell_type": "code",
      "source": [
        "df['currency'].unique()"
      ],
      "metadata": {
        "colab": {
          "base_uri": "https://localhost:8080/"
        },
        "id": "QTIAB7Uk4yCJ",
        "outputId": "ecaf9008-5801-41a4-b276-8e071dbf8b9b"
      },
      "execution_count": null,
      "outputs": [
        {
          "output_type": "execute_result",
          "data": {
            "text/plain": [
              "array(['RUR', nan, 'EUR', 'USD'], dtype=object)"
            ]
          },
          "metadata": {},
          "execution_count": 9
        }
      ]
    },
    {
      "cell_type": "markdown",
      "metadata": {
        "id": "BvsQ3UbZV7zn"
      },
      "source": [
        "### Практические задания:"
      ]
    },
    {
      "cell_type": "markdown",
      "metadata": {
        "id": "7geO5UHuV7zn"
      },
      "source": [
        "#### 1. Изучите методы для сбора данных курсов валют в [API Центрального банка Российской Федерации](https://www.cbr.ru/development/SXML/) . Используя запросы к API, приведите значения заработной платы к рублям одним из вариантов: 1) простой вариант - на текущую дату  2) вариант посложнее - на дату создания (created)."
      ]
    },
    {
      "cell_type": "code",
      "execution_count": null,
      "metadata": {
        "scrolled": true,
        "id": "pU7IBpESV7zo"
      },
      "outputs": [],
      "source": [
        "import requests\n",
        "import xml.etree.ElementTree as ET\n",
        "#Отправляем запрос на получение курса валюты на текущую дату\n",
        "response = requests.get('https://www.cbr.ru/scripts/XML_daily.asp')\n",
        "root = ET.fromstring(response.text)\n",
        "\n",
        "#Ищем курс евро и доллара в полученном XML-документе, так как в датасете в столбце с валютой 3 уникальных значения: рубли, доллары и евро\n",
        "for valute in root.findall('Valute'):\n",
        "    if valute.find('CharCode').text == 'EUR':\n",
        "        rate_eur = float(valute.find('Value').text.replace(',', '.')) #Сохраняем это значение в отдельную переменную\n",
        "    if valute.find('CharCode').text == 'USD':\n",
        "        rate_usd = float(valute.find('Value').text.replace(',', '.'))\n",
        "\n",
        "#Ищем строки, в которых значение валюты EUR, перевод зарплаты из евро в рубли и перезапись в столбцах 'salary_from' и 'salary_to'\n",
        "df.loc[df['currency'] == 'EUR', ['salary_from', 'salary_to']] = df.loc[df['currency'] == 'EUR', ['salary_from', 'salary_to']] * rate_eur\n",
        "df.loc[df['currency'] == 'EUR', ['salary_from', 'salary_to']] = df.loc[df['currency'] == 'EUR', ['salary_from', 'salary_to']].round(1)\n",
        "#Замена наименования валюты EUR на RUR\n",
        "df.loc[df['currency'] == 'EUR', 'currency'] = 'RUR'\n",
        "#Аналогичная операция с USD\n",
        "df.loc[df['currency'] == 'USD', ['salary_from', 'salary_to']] = df.loc[df['currency'] == 'USD', ['salary_from', 'salary_to']] * rate_usd\n",
        "df.loc[df['currency'] == 'USD', ['salary_from', 'salary_to']] = df.loc[df['currency'] == 'USD', ['salary_from', 'salary_to']].round(1)\n",
        "df.loc[df['currency'] == 'USD', 'currency'] = 'RUR'\n"
      ]
    },
    {
      "cell_type": "code",
      "source": [
        "df.loc[df['currency'] =='EUR'] #Доказательство, что строк, где бы была валюта евро, не осталось"
      ],
      "metadata": {
        "colab": {
          "base_uri": "https://localhost:8080/",
          "height": 49
        },
        "id": "_UvwaJI_9ZDX",
        "outputId": "2792a49d-7779-478b-a498-69e8091079f1"
      },
      "execution_count": null,
      "outputs": [
        {
          "output_type": "execute_result",
          "data": {
            "text/plain": [
              "Empty DataFrame\n",
              "Columns: [vacancy, url, created, has_test, salary_from, salary_to, currency, experience, schedule, skills, employer, area, description]\n",
              "Index: []"
            ],
            "text/html": [
              "\n",
              "  <div id=\"df-b7113390-eb82-40a1-9eeb-a1574871e9e4\">\n",
              "    <div class=\"colab-df-container\">\n",
              "      <div>\n",
              "<style scoped>\n",
              "    .dataframe tbody tr th:only-of-type {\n",
              "        vertical-align: middle;\n",
              "    }\n",
              "\n",
              "    .dataframe tbody tr th {\n",
              "        vertical-align: top;\n",
              "    }\n",
              "\n",
              "    .dataframe thead th {\n",
              "        text-align: right;\n",
              "    }\n",
              "</style>\n",
              "<table border=\"1\" class=\"dataframe\">\n",
              "  <thead>\n",
              "    <tr style=\"text-align: right;\">\n",
              "      <th></th>\n",
              "      <th>vacancy</th>\n",
              "      <th>url</th>\n",
              "      <th>created</th>\n",
              "      <th>has_test</th>\n",
              "      <th>salary_from</th>\n",
              "      <th>salary_to</th>\n",
              "      <th>currency</th>\n",
              "      <th>experience</th>\n",
              "      <th>schedule</th>\n",
              "      <th>skills</th>\n",
              "      <th>employer</th>\n",
              "      <th>area</th>\n",
              "      <th>description</th>\n",
              "    </tr>\n",
              "  </thead>\n",
              "  <tbody>\n",
              "  </tbody>\n",
              "</table>\n",
              "</div>\n",
              "      <button class=\"colab-df-convert\" onclick=\"convertToInteractive('df-b7113390-eb82-40a1-9eeb-a1574871e9e4')\"\n",
              "              title=\"Convert this dataframe to an interactive table.\"\n",
              "              style=\"display:none;\">\n",
              "        \n",
              "  <svg xmlns=\"http://www.w3.org/2000/svg\" height=\"24px\"viewBox=\"0 0 24 24\"\n",
              "       width=\"24px\">\n",
              "    <path d=\"M0 0h24v24H0V0z\" fill=\"none\"/>\n",
              "    <path d=\"M18.56 5.44l.94 2.06.94-2.06 2.06-.94-2.06-.94-.94-2.06-.94 2.06-2.06.94zm-11 1L8.5 8.5l.94-2.06 2.06-.94-2.06-.94L8.5 2.5l-.94 2.06-2.06.94zm10 10l.94 2.06.94-2.06 2.06-.94-2.06-.94-.94-2.06-.94 2.06-2.06.94z\"/><path d=\"M17.41 7.96l-1.37-1.37c-.4-.4-.92-.59-1.43-.59-.52 0-1.04.2-1.43.59L10.3 9.45l-7.72 7.72c-.78.78-.78 2.05 0 2.83L4 21.41c.39.39.9.59 1.41.59.51 0 1.02-.2 1.41-.59l7.78-7.78 2.81-2.81c.8-.78.8-2.07 0-2.86zM5.41 20L4 18.59l7.72-7.72 1.47 1.35L5.41 20z\"/>\n",
              "  </svg>\n",
              "      </button>\n",
              "      \n",
              "  <style>\n",
              "    .colab-df-container {\n",
              "      display:flex;\n",
              "      flex-wrap:wrap;\n",
              "      gap: 12px;\n",
              "    }\n",
              "\n",
              "    .colab-df-convert {\n",
              "      background-color: #E8F0FE;\n",
              "      border: none;\n",
              "      border-radius: 50%;\n",
              "      cursor: pointer;\n",
              "      display: none;\n",
              "      fill: #1967D2;\n",
              "      height: 32px;\n",
              "      padding: 0 0 0 0;\n",
              "      width: 32px;\n",
              "    }\n",
              "\n",
              "    .colab-df-convert:hover {\n",
              "      background-color: #E2EBFA;\n",
              "      box-shadow: 0px 1px 2px rgba(60, 64, 67, 0.3), 0px 1px 3px 1px rgba(60, 64, 67, 0.15);\n",
              "      fill: #174EA6;\n",
              "    }\n",
              "\n",
              "    [theme=dark] .colab-df-convert {\n",
              "      background-color: #3B4455;\n",
              "      fill: #D2E3FC;\n",
              "    }\n",
              "\n",
              "    [theme=dark] .colab-df-convert:hover {\n",
              "      background-color: #434B5C;\n",
              "      box-shadow: 0px 1px 3px 1px rgba(0, 0, 0, 0.15);\n",
              "      filter: drop-shadow(0px 1px 2px rgba(0, 0, 0, 0.3));\n",
              "      fill: #FFFFFF;\n",
              "    }\n",
              "  </style>\n",
              "\n",
              "      <script>\n",
              "        const buttonEl =\n",
              "          document.querySelector('#df-b7113390-eb82-40a1-9eeb-a1574871e9e4 button.colab-df-convert');\n",
              "        buttonEl.style.display =\n",
              "          google.colab.kernel.accessAllowed ? 'block' : 'none';\n",
              "\n",
              "        async function convertToInteractive(key) {\n",
              "          const element = document.querySelector('#df-b7113390-eb82-40a1-9eeb-a1574871e9e4');\n",
              "          const dataTable =\n",
              "            await google.colab.kernel.invokeFunction('convertToInteractive',\n",
              "                                                     [key], {});\n",
              "          if (!dataTable) return;\n",
              "\n",
              "          const docLinkHtml = 'Like what you see? Visit the ' +\n",
              "            '<a target=\"_blank\" href=https://colab.research.google.com/notebooks/data_table.ipynb>data table notebook</a>'\n",
              "            + ' to learn more about interactive tables.';\n",
              "          element.innerHTML = '';\n",
              "          dataTable['output_type'] = 'display_data';\n",
              "          await google.colab.output.renderOutput(dataTable, element);\n",
              "          const docLink = document.createElement('div');\n",
              "          docLink.innerHTML = docLinkHtml;\n",
              "          element.appendChild(docLink);\n",
              "        }\n",
              "      </script>\n",
              "    </div>\n",
              "  </div>\n",
              "  "
            ]
          },
          "metadata": {},
          "execution_count": 11
        }
      ]
    },
    {
      "cell_type": "code",
      "source": [
        "df['currency'].unique() #Остались только рубли"
      ],
      "metadata": {
        "colab": {
          "base_uri": "https://localhost:8080/"
        },
        "id": "V6y3cyEX_Uy9",
        "outputId": "b007ccc1-a069-43f7-8948-1965f54add01"
      },
      "execution_count": null,
      "outputs": [
        {
          "output_type": "execute_result",
          "data": {
            "text/plain": [
              "array(['RUR', nan], dtype=object)"
            ]
          },
          "metadata": {},
          "execution_count": 12
        }
      ]
    },
    {
      "cell_type": "markdown",
      "metadata": {
        "id": "JlqEn40RV7zo"
      },
      "source": [
        "#### 2. Найдите вакансию с самой высокой заработной платой, где подойдет 4 года опыта работы и не нужно проходить тестовое задание."
      ]
    },
    {
      "cell_type": "code",
      "execution_count": null,
      "metadata": {
        "id": "Mro1quP3V7zp",
        "colab": {
          "base_uri": "https://localhost:8080/"
        },
        "outputId": "7fe7d310-c382-4322-a6d3-365e204758bf"
      },
      "outputs": [
        {
          "output_type": "execute_result",
          "data": {
            "text/plain": [
              "array(['От 1 года до 3 лет', 'От 3 до 6 лет', 'Нет опыта', 'Более 6 лет'],\n",
              "      dtype=object)"
            ]
          },
          "metadata": {},
          "execution_count": 13
        }
      ],
      "source": [
        "df['experience'].unique()\n"
      ]
    },
    {
      "cell_type": "code",
      "source": [
        "#Используем регулярные выражения для извлечения чисел из столбца experience, занесем числовые значения в отдельный столбец experience_years\n",
        "#будем заносить первое число, так как, например, с опытом от 1 до 3 лет, обязателен опыт именно больше 1 года, верхний предел обычно менее важен\n",
        "#то есть с четырехлетним опытом могут взять на работу, где требуется опыт от 1 до 3 лет, но не наоборот\n",
        "\n",
        "def experience(exp): #функция для извлечениия чисел\n",
        "    pattern = r'\\d+'\n",
        "    matches = re.findall(pattern, exp)\n",
        "    if len(matches) == 1:\n",
        "        return int(matches[0])\n",
        "    elif len(matches) == 2:\n",
        "        return int(matches[0])\n",
        "    else:\n",
        "        return 0 #если нет опыта записываем 0\n",
        "df['experience_years'] = df['experience'].apply(experience)\n",
        "df.sample(3)"
      ],
      "metadata": {
        "colab": {
          "base_uri": "https://localhost:8080/",
          "height": 415
        },
        "id": "7SisnEc4IbA-",
        "outputId": "32a03bd5-5bf4-42d2-c454-6ba0163ae3c9"
      },
      "execution_count": null,
      "outputs": [
        {
          "output_type": "execute_result",
          "data": {
            "text/plain": [
              "                                                vacancy  \\\n",
              "1011                                   Python Developer   \n",
              "1542                Backend Python Developer (удалённо)   \n",
              "951   Бэкенд-разработчик/Python/Middle Python/ Pytho...   \n",
              "\n",
              "                                                    url  \\\n",
              "1011  https://hh.ru/applicant/vacancy_response?vacan...   \n",
              "1542  https://hh.ru/applicant/vacancy_response?vacan...   \n",
              "951   https://hh.ru/applicant/vacancy_response?vacan...   \n",
              "\n",
              "                       created  has_test  salary_from  salary_to currency  \\\n",
              "1011  2021-07-08T20:26:22+0300     False          NaN        NaN      NaN   \n",
              "1542  2021-07-26T10:19:29+0300     False     300000.0   400000.0      RUR   \n",
              "951   2021-07-06T15:02:17+0300     False     150000.0   220000.0      RUR   \n",
              "\n",
              "         experience          schedule  \\\n",
              "1011  От 3 до 6 лет     Гибкий график   \n",
              "1542  От 3 до 6 лет  Удаленная работа   \n",
              "951   От 3 до 6 лет  Удаленная работа   \n",
              "\n",
              "                                               skills             employer  \\\n",
              "1011                Python;Английский язык;Linux;SQL;               Auriga   \n",
              "1542                Python;Linux;Bash;Cloud;VoIP;SIP;         IT_Selection   \n",
              "951   Python;Git;MongoDB;Redis;Design Patterns;Flask;  ЮТэйр, Авиакомпания   \n",
              "\n",
              "                area                                        description  \\\n",
              "1011  Ростов-на-Дону  АУРИГА — российско-американская компания с 30-...   \n",
              "1542          Москва  Уважаемые соискатели, наш клиент, зарубежная к...   \n",
              "951            Тверь  Utair - российская авиакомпания.  Мы летаем по...   \n",
              "\n",
              "      experience_years  \n",
              "1011                 3  \n",
              "1542                 3  \n",
              "951                  3  "
            ],
            "text/html": [
              "\n",
              "  <div id=\"df-867a5510-3581-406e-8807-2f0209c8400c\">\n",
              "    <div class=\"colab-df-container\">\n",
              "      <div>\n",
              "<style scoped>\n",
              "    .dataframe tbody tr th:only-of-type {\n",
              "        vertical-align: middle;\n",
              "    }\n",
              "\n",
              "    .dataframe tbody tr th {\n",
              "        vertical-align: top;\n",
              "    }\n",
              "\n",
              "    .dataframe thead th {\n",
              "        text-align: right;\n",
              "    }\n",
              "</style>\n",
              "<table border=\"1\" class=\"dataframe\">\n",
              "  <thead>\n",
              "    <tr style=\"text-align: right;\">\n",
              "      <th></th>\n",
              "      <th>vacancy</th>\n",
              "      <th>url</th>\n",
              "      <th>created</th>\n",
              "      <th>has_test</th>\n",
              "      <th>salary_from</th>\n",
              "      <th>salary_to</th>\n",
              "      <th>currency</th>\n",
              "      <th>experience</th>\n",
              "      <th>schedule</th>\n",
              "      <th>skills</th>\n",
              "      <th>employer</th>\n",
              "      <th>area</th>\n",
              "      <th>description</th>\n",
              "      <th>experience_years</th>\n",
              "    </tr>\n",
              "  </thead>\n",
              "  <tbody>\n",
              "    <tr>\n",
              "      <th>1011</th>\n",
              "      <td>Python Developer</td>\n",
              "      <td>https://hh.ru/applicant/vacancy_response?vacan...</td>\n",
              "      <td>2021-07-08T20:26:22+0300</td>\n",
              "      <td>False</td>\n",
              "      <td>NaN</td>\n",
              "      <td>NaN</td>\n",
              "      <td>NaN</td>\n",
              "      <td>От 3 до 6 лет</td>\n",
              "      <td>Гибкий график</td>\n",
              "      <td>Python;Английский язык;Linux;SQL;</td>\n",
              "      <td>Auriga</td>\n",
              "      <td>Ростов-на-Дону</td>\n",
              "      <td>АУРИГА — российско-американская компания с 30-...</td>\n",
              "      <td>3</td>\n",
              "    </tr>\n",
              "    <tr>\n",
              "      <th>1542</th>\n",
              "      <td>Backend Python Developer (удалённо)</td>\n",
              "      <td>https://hh.ru/applicant/vacancy_response?vacan...</td>\n",
              "      <td>2021-07-26T10:19:29+0300</td>\n",
              "      <td>False</td>\n",
              "      <td>300000.0</td>\n",
              "      <td>400000.0</td>\n",
              "      <td>RUR</td>\n",
              "      <td>От 3 до 6 лет</td>\n",
              "      <td>Удаленная работа</td>\n",
              "      <td>Python;Linux;Bash;Cloud;VoIP;SIP;</td>\n",
              "      <td>IT_Selection</td>\n",
              "      <td>Москва</td>\n",
              "      <td>Уважаемые соискатели, наш клиент, зарубежная к...</td>\n",
              "      <td>3</td>\n",
              "    </tr>\n",
              "    <tr>\n",
              "      <th>951</th>\n",
              "      <td>Бэкенд-разработчик/Python/Middle Python/ Pytho...</td>\n",
              "      <td>https://hh.ru/applicant/vacancy_response?vacan...</td>\n",
              "      <td>2021-07-06T15:02:17+0300</td>\n",
              "      <td>False</td>\n",
              "      <td>150000.0</td>\n",
              "      <td>220000.0</td>\n",
              "      <td>RUR</td>\n",
              "      <td>От 3 до 6 лет</td>\n",
              "      <td>Удаленная работа</td>\n",
              "      <td>Python;Git;MongoDB;Redis;Design Patterns;Flask;</td>\n",
              "      <td>ЮТэйр, Авиакомпания</td>\n",
              "      <td>Тверь</td>\n",
              "      <td>Utair - российская авиакомпания.  Мы летаем по...</td>\n",
              "      <td>3</td>\n",
              "    </tr>\n",
              "  </tbody>\n",
              "</table>\n",
              "</div>\n",
              "      <button class=\"colab-df-convert\" onclick=\"convertToInteractive('df-867a5510-3581-406e-8807-2f0209c8400c')\"\n",
              "              title=\"Convert this dataframe to an interactive table.\"\n",
              "              style=\"display:none;\">\n",
              "        \n",
              "  <svg xmlns=\"http://www.w3.org/2000/svg\" height=\"24px\"viewBox=\"0 0 24 24\"\n",
              "       width=\"24px\">\n",
              "    <path d=\"M0 0h24v24H0V0z\" fill=\"none\"/>\n",
              "    <path d=\"M18.56 5.44l.94 2.06.94-2.06 2.06-.94-2.06-.94-.94-2.06-.94 2.06-2.06.94zm-11 1L8.5 8.5l.94-2.06 2.06-.94-2.06-.94L8.5 2.5l-.94 2.06-2.06.94zm10 10l.94 2.06.94-2.06 2.06-.94-2.06-.94-.94-2.06-.94 2.06-2.06.94z\"/><path d=\"M17.41 7.96l-1.37-1.37c-.4-.4-.92-.59-1.43-.59-.52 0-1.04.2-1.43.59L10.3 9.45l-7.72 7.72c-.78.78-.78 2.05 0 2.83L4 21.41c.39.39.9.59 1.41.59.51 0 1.02-.2 1.41-.59l7.78-7.78 2.81-2.81c.8-.78.8-2.07 0-2.86zM5.41 20L4 18.59l7.72-7.72 1.47 1.35L5.41 20z\"/>\n",
              "  </svg>\n",
              "      </button>\n",
              "      \n",
              "  <style>\n",
              "    .colab-df-container {\n",
              "      display:flex;\n",
              "      flex-wrap:wrap;\n",
              "      gap: 12px;\n",
              "    }\n",
              "\n",
              "    .colab-df-convert {\n",
              "      background-color: #E8F0FE;\n",
              "      border: none;\n",
              "      border-radius: 50%;\n",
              "      cursor: pointer;\n",
              "      display: none;\n",
              "      fill: #1967D2;\n",
              "      height: 32px;\n",
              "      padding: 0 0 0 0;\n",
              "      width: 32px;\n",
              "    }\n",
              "\n",
              "    .colab-df-convert:hover {\n",
              "      background-color: #E2EBFA;\n",
              "      box-shadow: 0px 1px 2px rgba(60, 64, 67, 0.3), 0px 1px 3px 1px rgba(60, 64, 67, 0.15);\n",
              "      fill: #174EA6;\n",
              "    }\n",
              "\n",
              "    [theme=dark] .colab-df-convert {\n",
              "      background-color: #3B4455;\n",
              "      fill: #D2E3FC;\n",
              "    }\n",
              "\n",
              "    [theme=dark] .colab-df-convert:hover {\n",
              "      background-color: #434B5C;\n",
              "      box-shadow: 0px 1px 3px 1px rgba(0, 0, 0, 0.15);\n",
              "      filter: drop-shadow(0px 1px 2px rgba(0, 0, 0, 0.3));\n",
              "      fill: #FFFFFF;\n",
              "    }\n",
              "  </style>\n",
              "\n",
              "      <script>\n",
              "        const buttonEl =\n",
              "          document.querySelector('#df-867a5510-3581-406e-8807-2f0209c8400c button.colab-df-convert');\n",
              "        buttonEl.style.display =\n",
              "          google.colab.kernel.accessAllowed ? 'block' : 'none';\n",
              "\n",
              "        async function convertToInteractive(key) {\n",
              "          const element = document.querySelector('#df-867a5510-3581-406e-8807-2f0209c8400c');\n",
              "          const dataTable =\n",
              "            await google.colab.kernel.invokeFunction('convertToInteractive',\n",
              "                                                     [key], {});\n",
              "          if (!dataTable) return;\n",
              "\n",
              "          const docLinkHtml = 'Like what you see? Visit the ' +\n",
              "            '<a target=\"_blank\" href=https://colab.research.google.com/notebooks/data_table.ipynb>data table notebook</a>'\n",
              "            + ' to learn more about interactive tables.';\n",
              "          element.innerHTML = '';\n",
              "          dataTable['output_type'] = 'display_data';\n",
              "          await google.colab.output.renderOutput(dataTable, element);\n",
              "          const docLink = document.createElement('div');\n",
              "          docLink.innerHTML = docLinkHtml;\n",
              "          element.appendChild(docLink);\n",
              "        }\n",
              "      </script>\n",
              "    </div>\n",
              "  </div>\n",
              "  "
            ]
          },
          "metadata": {},
          "execution_count": 14
        }
      ]
    },
    {
      "cell_type": "code",
      "source": [
        "#Выбираем вакансии, где требуется опыт работы менее 4 лет и не нужно проходить тестовое задание\n",
        "df2 = df[(df['experience_years'] <= 4) & (df['has_test'] == False)]\n",
        "\n",
        "#Ищем вакансию с самой высокой зарплатой, но так как в столбцах salary_from и salary_to могут быть пустые значения, найдем для каждого\n",
        "highest_salary_vacancy_to = df2.loc[df2['salary_to'].idxmax()]\n",
        "highest_salary_vacancy_from = df2.loc[df2['salary_from'].idxmax()]\n",
        "print(highest_salary_vacancy_to, '\\n')\n",
        "print(highest_salary_vacancy_from)\n",
        "\n",
        "\n",
        "#Так получилось, что у второй вакансии нет верхнего предела, а стартовая зарплата у нее выше, поэтому нельзя ее исключить"
      ],
      "metadata": {
        "colab": {
          "base_uri": "https://localhost:8080/"
        },
        "id": "IOisb_kOKV4G",
        "outputId": "251f6e57-7682-4436-82f3-2f686f41d8ae"
      },
      "execution_count": null,
      "outputs": [
        {
          "output_type": "stream",
          "name": "stdout",
          "text": [
            "vacancy                                  Back-end Developer (Python3)\n",
            "url                 https://hh.ru/applicant/vacancy_response?vacan...\n",
            "created                                      2021-08-02T13:21:00+0300\n",
            "has_test                                                        False\n",
            "salary_from                                                  320000.0\n",
            "salary_to                                                    550000.0\n",
            "currency                                                          RUR\n",
            "experience                                         От 1 года до 3 лет\n",
            "schedule                                                Гибкий график\n",
            "skills              Git;Linux;Python;PostgreSQL;Django Framework;R...\n",
            "employer                                                       Фортин\n",
            "area                                                           Москва\n",
            "description         Что для нас важно:  Опыт разработки на Python3...\n",
            "experience_years                                                    1\n",
            "Name: 959, dtype: object \n",
            "\n",
            "vacancy                     Senior C++/Python Developer (Yellow Team)\n",
            "url                 https://hh.ru/applicant/vacancy_response?vacan...\n",
            "created                                      2021-07-29T19:01:14+0300\n",
            "has_test                                                        False\n",
            "salary_from                                                  350000.0\n",
            "salary_to                                                         NaN\n",
            "currency                                                          RUR\n",
            "experience                                              От 3 до 6 лет\n",
            "schedule                                                  Полный день\n",
            "skills                                                            NaN\n",
            "employer                                                      Semrush\n",
            "area                                                  Санкт-Петербург\n",
            "description         Semrush – продуктовая IT-компания. С 2008 года...\n",
            "experience_years                                                    3\n",
            "Name: 565, dtype: object\n"
          ]
        }
      ]
    },
    {
      "cell_type": "markdown",
      "metadata": {
        "id": "VZrW-3RQV7zp"
      },
      "source": [
        "#### 3. Сделайте рейтинг (топ-30) навыков по всем вакансиям."
      ]
    },
    {
      "cell_type": "code",
      "source": [
        "df['skills'].unique()"
      ],
      "metadata": {
        "colab": {
          "base_uri": "https://localhost:8080/"
        },
        "id": "Pg6ppZ7sOxXW",
        "outputId": "0c65f90e-7a5e-4788-b4ad-f732370e1303"
      },
      "execution_count": null,
      "outputs": [
        {
          "output_type": "execute_result",
          "data": {
            "text/plain": [
              "array(['Python;PostgreSQL;Linux;Flask;',\n",
              "       'Python;Git;MongoDB;Redis;Design Patterns;Flask;',\n",
              "       'Python;Git;Django Framework;PostgreSQL;Linux;Vue.js;', ...,\n",
              "       'Python;Git;Linux;C++;x86;Windows;Unix;Virtualization;',\n",
              "       'Git;PostgreSQL;Python;Blockchain;Crypto;React (hooks);TypeScript;Redux;Agile Project Management;React.js;',\n",
              "       'Java Servlets;Java;JavaScript;Spring Framework;Git;JDBC;HTML5;Apache Tomcat;Atlassian Jira;SQL;Nginx;ООП;AngularJS;Eclipse;Kafka;'],\n",
              "      dtype=object)"
            ]
          },
          "metadata": {},
          "execution_count": 16
        }
      ]
    },
    {
      "cell_type": "code",
      "execution_count": null,
      "metadata": {
        "scrolled": true,
        "id": "1kJqmIudV7zp",
        "colab": {
          "base_uri": "https://localhost:8080/"
        },
        "outputId": "15a6d89f-8654-4b3a-d71c-170b040a1082"
      },
      "outputs": [
        {
          "output_type": "execute_result",
          "data": {
            "text/plain": [
              "[('Python', 1442),\n",
              " ('Git', 586),\n",
              " ('SQL', 501),\n",
              " ('PostgreSQL', 499),\n",
              " ('Django Framework', 467),\n",
              " ('Linux', 463),\n",
              " ('nan', 210),\n",
              " ('Flask', 177),\n",
              " ('Docker', 172),\n",
              " ('JavaScript', 149),\n",
              " ('Английский язык', 141),\n",
              " ('MySQL', 128),\n",
              " ('ООП', 120),\n",
              " ('MongoDB', 113),\n",
              " ('Redis', 107),\n",
              " ('REST', 70),\n",
              " ('RabbitMQ', 68),\n",
              " ('Django', 62),\n",
              " ('CSS', 56),\n",
              " ('HTML', 56),\n",
              " ('Atlassian Jira', 52),\n",
              " ('C++', 50),\n",
              " ('API', 49),\n",
              " ('MS SQL', 43),\n",
              " ('Java', 43),\n",
              " ('Базы данных', 41),\n",
              " ('Работа в команде', 39),\n",
              " ('AWS', 36),\n",
              " ('Pytest', 35),\n",
              " ('Celery', 35)]"
            ]
          },
          "metadata": {},
          "execution_count": 17
        }
      ],
      "source": [
        "#Создаем пустой словарь для хранения навыков и их количества упоминаний\n",
        "skills_count = {}\n",
        "\n",
        "#Проходим по всем вакансиям\n",
        "for index, row in df.iterrows():\n",
        "    #Извлекаем из строки требуемые навыки и разбиваем их по ';' на отдельные элементы\n",
        "    skills = str(row['skills']).split(';')\n",
        "    \n",
        "    #Увеличиваем счетчик упоминаний для каждого навыка\n",
        "    for skill in skills:\n",
        "        if skill: #Проверка на пустую строку\n",
        "            if skill in skills_count:\n",
        "                skills_count[skill] += 1\n",
        "            else:\n",
        "                skills_count[skill] = 1\n",
        "\n",
        "#Сортируем словарь по убыванию количества упоминаний и выводим топ-30 навыков\n",
        "top_skills = sorted(skills_count.items(), key=lambda x: x[1], reverse=True)[:30]\n",
        "top_skills\n",
        "\n",
        "#Можно более красивым выводом\n",
        "#for skill, count in top_skills:\n",
        "    #print(f'{skill}: {count}')\n"
      ]
    },
    {
      "cell_type": "markdown",
      "metadata": {
        "id": "lsCANOloV7zq"
      },
      "source": [
        "#### 4. Cоставьте топ-10 городов с наибольшей средней заработной платой по вакансиям тестировщика (QA)."
      ]
    },
    {
      "cell_type": "code",
      "execution_count": null,
      "metadata": {
        "id": "34kNgQNkV7zq",
        "colab": {
          "base_uri": "https://localhost:8080/"
        },
        "outputId": "fa60d155-783d-4b5c-b7ff-8a533d73c6f1"
      },
      "outputs": [
        {
          "output_type": "stream",
          "name": "stdout",
          "text": [
            "Всего городов, где представлены вакансии тестировщиков: 7 \n",
            "\n"
          ]
        },
        {
          "output_type": "execute_result",
          "data": {
            "text/plain": [
              "area\n",
              "Тамбов             200000.000000\n",
              "Москва             190555.555556\n",
              "Санкт-Петербург    180555.555556\n",
              "Казань              90000.000000\n",
              "Новосибирск                  NaN\n",
              "Самара                       NaN\n",
              "Саратов                      NaN\n",
              "Name: mean_salary, dtype: float64"
            ]
          },
          "metadata": {},
          "execution_count": 18
        }
      ],
      "source": [
        "#Используем метод str.contains() для поиска вакансий, содержащих слово QA, однако еще можно использовать регулярные выражения\n",
        "#pattern = re.compile(r'\\bQA\\b', flags=re.IGNORECASE) игнорируя регистр\n",
        "#df4 = df[df['vacancy'].str.contains(pattern)]\n",
        "\n",
        "df4 = df[df['vacancy'].str.contains('QA')]\n",
        "print('Всего городов, где представлены вакансии тестировщиков:', df4['area'].nunique(), '\\n')\n",
        "\n",
        "#Заполняем пропущенные значения в столбцах salary_from значением из столбца salary_to и salary_to значением из столбца salary_from\n",
        "df4['salary_from'].fillna(df4['salary_to'], inplace=True)\n",
        "df4['salary_to'].fillna(df4['salary_from'], inplace=True)\n",
        "\n",
        "#Функция расчета средней зарплаты\n",
        "def calculate_mean_salary(row):\n",
        "    return (row['salary_from'] + row['salary_to']) / 2\n",
        "\n",
        "#Применяем функцию к каждой строке и создаем новый столбец со значениями средней зарплаты\n",
        "df4['mean_salary'] = df4.apply(calculate_mean_salary, axis=1)\n",
        "\n",
        "#Группируем данные по городам и считаем среднее значение зарплаты в каждом городе\n",
        "df4_grouped = df4.groupby('area')['mean_salary'].mean()\n",
        "\n",
        "#Сортируем данные по убыванию средней зарплаты и выбираем топ-10 городов\n",
        "top_cities = df4_grouped.sort_values(ascending=False)[:10]\n",
        "top_cities"
      ]
    },
    {
      "cell_type": "markdown",
      "metadata": {
        "id": "eLudUFJaV7zq"
      },
      "source": [
        "#### 5. Покажите динамику количества вакансии по месяцам даты создания."
      ]
    },
    {
      "cell_type": "code",
      "execution_count": null,
      "metadata": {
        "id": "EoUP8WXYV7zq",
        "colab": {
          "base_uri": "https://localhost:8080/",
          "height": 112
        },
        "outputId": "3e61cf56-2ee8-4945-93f0-eceb6a4b2c3c"
      },
      "outputs": [
        {
          "output_type": "execute_result",
          "data": {
            "text/plain": [
              "   month_created  count\n",
              "0              7   1239\n",
              "1              8    461"
            ],
            "text/html": [
              "\n",
              "  <div id=\"df-2f80b1f7-1366-4261-8c6d-3bacf8a634ba\">\n",
              "    <div class=\"colab-df-container\">\n",
              "      <div>\n",
              "<style scoped>\n",
              "    .dataframe tbody tr th:only-of-type {\n",
              "        vertical-align: middle;\n",
              "    }\n",
              "\n",
              "    .dataframe tbody tr th {\n",
              "        vertical-align: top;\n",
              "    }\n",
              "\n",
              "    .dataframe thead th {\n",
              "        text-align: right;\n",
              "    }\n",
              "</style>\n",
              "<table border=\"1\" class=\"dataframe\">\n",
              "  <thead>\n",
              "    <tr style=\"text-align: right;\">\n",
              "      <th></th>\n",
              "      <th>month_created</th>\n",
              "      <th>count</th>\n",
              "    </tr>\n",
              "  </thead>\n",
              "  <tbody>\n",
              "    <tr>\n",
              "      <th>0</th>\n",
              "      <td>7</td>\n",
              "      <td>1239</td>\n",
              "    </tr>\n",
              "    <tr>\n",
              "      <th>1</th>\n",
              "      <td>8</td>\n",
              "      <td>461</td>\n",
              "    </tr>\n",
              "  </tbody>\n",
              "</table>\n",
              "</div>\n",
              "      <button class=\"colab-df-convert\" onclick=\"convertToInteractive('df-2f80b1f7-1366-4261-8c6d-3bacf8a634ba')\"\n",
              "              title=\"Convert this dataframe to an interactive table.\"\n",
              "              style=\"display:none;\">\n",
              "        \n",
              "  <svg xmlns=\"http://www.w3.org/2000/svg\" height=\"24px\"viewBox=\"0 0 24 24\"\n",
              "       width=\"24px\">\n",
              "    <path d=\"M0 0h24v24H0V0z\" fill=\"none\"/>\n",
              "    <path d=\"M18.56 5.44l.94 2.06.94-2.06 2.06-.94-2.06-.94-.94-2.06-.94 2.06-2.06.94zm-11 1L8.5 8.5l.94-2.06 2.06-.94-2.06-.94L8.5 2.5l-.94 2.06-2.06.94zm10 10l.94 2.06.94-2.06 2.06-.94-2.06-.94-.94-2.06-.94 2.06-2.06.94z\"/><path d=\"M17.41 7.96l-1.37-1.37c-.4-.4-.92-.59-1.43-.59-.52 0-1.04.2-1.43.59L10.3 9.45l-7.72 7.72c-.78.78-.78 2.05 0 2.83L4 21.41c.39.39.9.59 1.41.59.51 0 1.02-.2 1.41-.59l7.78-7.78 2.81-2.81c.8-.78.8-2.07 0-2.86zM5.41 20L4 18.59l7.72-7.72 1.47 1.35L5.41 20z\"/>\n",
              "  </svg>\n",
              "      </button>\n",
              "      \n",
              "  <style>\n",
              "    .colab-df-container {\n",
              "      display:flex;\n",
              "      flex-wrap:wrap;\n",
              "      gap: 12px;\n",
              "    }\n",
              "\n",
              "    .colab-df-convert {\n",
              "      background-color: #E8F0FE;\n",
              "      border: none;\n",
              "      border-radius: 50%;\n",
              "      cursor: pointer;\n",
              "      display: none;\n",
              "      fill: #1967D2;\n",
              "      height: 32px;\n",
              "      padding: 0 0 0 0;\n",
              "      width: 32px;\n",
              "    }\n",
              "\n",
              "    .colab-df-convert:hover {\n",
              "      background-color: #E2EBFA;\n",
              "      box-shadow: 0px 1px 2px rgba(60, 64, 67, 0.3), 0px 1px 3px 1px rgba(60, 64, 67, 0.15);\n",
              "      fill: #174EA6;\n",
              "    }\n",
              "\n",
              "    [theme=dark] .colab-df-convert {\n",
              "      background-color: #3B4455;\n",
              "      fill: #D2E3FC;\n",
              "    }\n",
              "\n",
              "    [theme=dark] .colab-df-convert:hover {\n",
              "      background-color: #434B5C;\n",
              "      box-shadow: 0px 1px 3px 1px rgba(0, 0, 0, 0.15);\n",
              "      filter: drop-shadow(0px 1px 2px rgba(0, 0, 0, 0.3));\n",
              "      fill: #FFFFFF;\n",
              "    }\n",
              "  </style>\n",
              "\n",
              "      <script>\n",
              "        const buttonEl =\n",
              "          document.querySelector('#df-2f80b1f7-1366-4261-8c6d-3bacf8a634ba button.colab-df-convert');\n",
              "        buttonEl.style.display =\n",
              "          google.colab.kernel.accessAllowed ? 'block' : 'none';\n",
              "\n",
              "        async function convertToInteractive(key) {\n",
              "          const element = document.querySelector('#df-2f80b1f7-1366-4261-8c6d-3bacf8a634ba');\n",
              "          const dataTable =\n",
              "            await google.colab.kernel.invokeFunction('convertToInteractive',\n",
              "                                                     [key], {});\n",
              "          if (!dataTable) return;\n",
              "\n",
              "          const docLinkHtml = 'Like what you see? Visit the ' +\n",
              "            '<a target=\"_blank\" href=https://colab.research.google.com/notebooks/data_table.ipynb>data table notebook</a>'\n",
              "            + ' to learn more about interactive tables.';\n",
              "          element.innerHTML = '';\n",
              "          dataTable['output_type'] = 'display_data';\n",
              "          await google.colab.output.renderOutput(dataTable, element);\n",
              "          const docLink = document.createElement('div');\n",
              "          docLink.innerHTML = docLinkHtml;\n",
              "          element.appendChild(docLink);\n",
              "        }\n",
              "      </script>\n",
              "    </div>\n",
              "  </div>\n",
              "  "
            ]
          },
          "metadata": {},
          "execution_count": 19
        }
      ],
      "source": [
        "df5 = df.copy() #Сделаем копию на всякий случай\n",
        "\n",
        "#Преобразуем столбец 'created' в формат даты\n",
        "df5['created'] = pd.to_datetime(df5['created'])\n",
        "\n",
        "#Создаем столбец с месяцем создания вакансии\n",
        "df5['month_created'] = df5['created'].dt.month\n",
        "\n",
        "#Группируем по месяцу создания и считаем количество вакансий в каждом месяце\n",
        "vacancies_by_month = df5.groupby('month_created').size().reset_index(name='count')\n",
        "\n",
        "vacancies_by_month"
      ]
    },
    {
      "cell_type": "code",
      "source": [
        "#Строим график для наглядности\n",
        "fig = px.bar(vacancies_by_month, x='month_created', y='count')\n",
        "fig.update_layout(title='Динамика количества вакансий по месяцам даты создания')\n",
        "fig.show()"
      ],
      "metadata": {
        "colab": {
          "base_uri": "https://localhost:8080/",
          "height": 542
        },
        "id": "v2Us3FODZ3gm",
        "outputId": "5f1e0372-0f8c-435a-a785-6d9d8c983019"
      },
      "execution_count": null,
      "outputs": [
        {
          "output_type": "display_data",
          "data": {
            "text/html": [
              "<html>\n",
              "<head><meta charset=\"utf-8\" /></head>\n",
              "<body>\n",
              "    <div>            <script src=\"https://cdnjs.cloudflare.com/ajax/libs/mathjax/2.7.5/MathJax.js?config=TeX-AMS-MML_SVG\"></script><script type=\"text/javascript\">if (window.MathJax && window.MathJax.Hub && window.MathJax.Hub.Config) {window.MathJax.Hub.Config({SVG: {font: \"STIX-Web\"}});}</script>                <script type=\"text/javascript\">window.PlotlyConfig = {MathJaxConfig: 'local'};</script>\n",
              "        <script src=\"https://cdn.plot.ly/plotly-2.18.2.min.js\"></script>                <div id=\"2d46ad25-8764-432c-be6f-dad9718f34fc\" class=\"plotly-graph-div\" style=\"height:525px; width:100%;\"></div>            <script type=\"text/javascript\">                                    window.PLOTLYENV=window.PLOTLYENV || {};                                    if (document.getElementById(\"2d46ad25-8764-432c-be6f-dad9718f34fc\")) {                    Plotly.newPlot(                        \"2d46ad25-8764-432c-be6f-dad9718f34fc\",                        [{\"alignmentgroup\":\"True\",\"hovertemplate\":\"month_created=%{x}<br>count=%{y}<extra></extra>\",\"legendgroup\":\"\",\"marker\":{\"color\":\"#636efa\",\"pattern\":{\"shape\":\"\"}},\"name\":\"\",\"offsetgroup\":\"\",\"orientation\":\"v\",\"showlegend\":false,\"textposition\":\"auto\",\"x\":[7,8],\"xaxis\":\"x\",\"y\":[1239,461],\"yaxis\":\"y\",\"type\":\"bar\"}],                        {\"template\":{\"data\":{\"histogram2dcontour\":[{\"type\":\"histogram2dcontour\",\"colorbar\":{\"outlinewidth\":0,\"ticks\":\"\"},\"colorscale\":[[0.0,\"#0d0887\"],[0.1111111111111111,\"#46039f\"],[0.2222222222222222,\"#7201a8\"],[0.3333333333333333,\"#9c179e\"],[0.4444444444444444,\"#bd3786\"],[0.5555555555555556,\"#d8576b\"],[0.6666666666666666,\"#ed7953\"],[0.7777777777777778,\"#fb9f3a\"],[0.8888888888888888,\"#fdca26\"],[1.0,\"#f0f921\"]]}],\"choropleth\":[{\"type\":\"choropleth\",\"colorbar\":{\"outlinewidth\":0,\"ticks\":\"\"}}],\"histogram2d\":[{\"type\":\"histogram2d\",\"colorbar\":{\"outlinewidth\":0,\"ticks\":\"\"},\"colorscale\":[[0.0,\"#0d0887\"],[0.1111111111111111,\"#46039f\"],[0.2222222222222222,\"#7201a8\"],[0.3333333333333333,\"#9c179e\"],[0.4444444444444444,\"#bd3786\"],[0.5555555555555556,\"#d8576b\"],[0.6666666666666666,\"#ed7953\"],[0.7777777777777778,\"#fb9f3a\"],[0.8888888888888888,\"#fdca26\"],[1.0,\"#f0f921\"]]}],\"heatmap\":[{\"type\":\"heatmap\",\"colorbar\":{\"outlinewidth\":0,\"ticks\":\"\"},\"colorscale\":[[0.0,\"#0d0887\"],[0.1111111111111111,\"#46039f\"],[0.2222222222222222,\"#7201a8\"],[0.3333333333333333,\"#9c179e\"],[0.4444444444444444,\"#bd3786\"],[0.5555555555555556,\"#d8576b\"],[0.6666666666666666,\"#ed7953\"],[0.7777777777777778,\"#fb9f3a\"],[0.8888888888888888,\"#fdca26\"],[1.0,\"#f0f921\"]]}],\"heatmapgl\":[{\"type\":\"heatmapgl\",\"colorbar\":{\"outlinewidth\":0,\"ticks\":\"\"},\"colorscale\":[[0.0,\"#0d0887\"],[0.1111111111111111,\"#46039f\"],[0.2222222222222222,\"#7201a8\"],[0.3333333333333333,\"#9c179e\"],[0.4444444444444444,\"#bd3786\"],[0.5555555555555556,\"#d8576b\"],[0.6666666666666666,\"#ed7953\"],[0.7777777777777778,\"#fb9f3a\"],[0.8888888888888888,\"#fdca26\"],[1.0,\"#f0f921\"]]}],\"contourcarpet\":[{\"type\":\"contourcarpet\",\"colorbar\":{\"outlinewidth\":0,\"ticks\":\"\"}}],\"contour\":[{\"type\":\"contour\",\"colorbar\":{\"outlinewidth\":0,\"ticks\":\"\"},\"colorscale\":[[0.0,\"#0d0887\"],[0.1111111111111111,\"#46039f\"],[0.2222222222222222,\"#7201a8\"],[0.3333333333333333,\"#9c179e\"],[0.4444444444444444,\"#bd3786\"],[0.5555555555555556,\"#d8576b\"],[0.6666666666666666,\"#ed7953\"],[0.7777777777777778,\"#fb9f3a\"],[0.8888888888888888,\"#fdca26\"],[1.0,\"#f0f921\"]]}],\"surface\":[{\"type\":\"surface\",\"colorbar\":{\"outlinewidth\":0,\"ticks\":\"\"},\"colorscale\":[[0.0,\"#0d0887\"],[0.1111111111111111,\"#46039f\"],[0.2222222222222222,\"#7201a8\"],[0.3333333333333333,\"#9c179e\"],[0.4444444444444444,\"#bd3786\"],[0.5555555555555556,\"#d8576b\"],[0.6666666666666666,\"#ed7953\"],[0.7777777777777778,\"#fb9f3a\"],[0.8888888888888888,\"#fdca26\"],[1.0,\"#f0f921\"]]}],\"mesh3d\":[{\"type\":\"mesh3d\",\"colorbar\":{\"outlinewidth\":0,\"ticks\":\"\"}}],\"scatter\":[{\"fillpattern\":{\"fillmode\":\"overlay\",\"size\":10,\"solidity\":0.2},\"type\":\"scatter\"}],\"parcoords\":[{\"type\":\"parcoords\",\"line\":{\"colorbar\":{\"outlinewidth\":0,\"ticks\":\"\"}}}],\"scatterpolargl\":[{\"type\":\"scatterpolargl\",\"marker\":{\"colorbar\":{\"outlinewidth\":0,\"ticks\":\"\"}}}],\"bar\":[{\"error_x\":{\"color\":\"#2a3f5f\"},\"error_y\":{\"color\":\"#2a3f5f\"},\"marker\":{\"line\":{\"color\":\"#E5ECF6\",\"width\":0.5},\"pattern\":{\"fillmode\":\"overlay\",\"size\":10,\"solidity\":0.2}},\"type\":\"bar\"}],\"scattergeo\":[{\"type\":\"scattergeo\",\"marker\":{\"colorbar\":{\"outlinewidth\":0,\"ticks\":\"\"}}}],\"scatterpolar\":[{\"type\":\"scatterpolar\",\"marker\":{\"colorbar\":{\"outlinewidth\":0,\"ticks\":\"\"}}}],\"histogram\":[{\"marker\":{\"pattern\":{\"fillmode\":\"overlay\",\"size\":10,\"solidity\":0.2}},\"type\":\"histogram\"}],\"scattergl\":[{\"type\":\"scattergl\",\"marker\":{\"colorbar\":{\"outlinewidth\":0,\"ticks\":\"\"}}}],\"scatter3d\":[{\"type\":\"scatter3d\",\"line\":{\"colorbar\":{\"outlinewidth\":0,\"ticks\":\"\"}},\"marker\":{\"colorbar\":{\"outlinewidth\":0,\"ticks\":\"\"}}}],\"scattermapbox\":[{\"type\":\"scattermapbox\",\"marker\":{\"colorbar\":{\"outlinewidth\":0,\"ticks\":\"\"}}}],\"scatterternary\":[{\"type\":\"scatterternary\",\"marker\":{\"colorbar\":{\"outlinewidth\":0,\"ticks\":\"\"}}}],\"scattercarpet\":[{\"type\":\"scattercarpet\",\"marker\":{\"colorbar\":{\"outlinewidth\":0,\"ticks\":\"\"}}}],\"carpet\":[{\"aaxis\":{\"endlinecolor\":\"#2a3f5f\",\"gridcolor\":\"white\",\"linecolor\":\"white\",\"minorgridcolor\":\"white\",\"startlinecolor\":\"#2a3f5f\"},\"baxis\":{\"endlinecolor\":\"#2a3f5f\",\"gridcolor\":\"white\",\"linecolor\":\"white\",\"minorgridcolor\":\"white\",\"startlinecolor\":\"#2a3f5f\"},\"type\":\"carpet\"}],\"table\":[{\"cells\":{\"fill\":{\"color\":\"#EBF0F8\"},\"line\":{\"color\":\"white\"}},\"header\":{\"fill\":{\"color\":\"#C8D4E3\"},\"line\":{\"color\":\"white\"}},\"type\":\"table\"}],\"barpolar\":[{\"marker\":{\"line\":{\"color\":\"#E5ECF6\",\"width\":0.5},\"pattern\":{\"fillmode\":\"overlay\",\"size\":10,\"solidity\":0.2}},\"type\":\"barpolar\"}],\"pie\":[{\"automargin\":true,\"type\":\"pie\"}]},\"layout\":{\"autotypenumbers\":\"strict\",\"colorway\":[\"#636efa\",\"#EF553B\",\"#00cc96\",\"#ab63fa\",\"#FFA15A\",\"#19d3f3\",\"#FF6692\",\"#B6E880\",\"#FF97FF\",\"#FECB52\"],\"font\":{\"color\":\"#2a3f5f\"},\"hovermode\":\"closest\",\"hoverlabel\":{\"align\":\"left\"},\"paper_bgcolor\":\"white\",\"plot_bgcolor\":\"#E5ECF6\",\"polar\":{\"bgcolor\":\"#E5ECF6\",\"angularaxis\":{\"gridcolor\":\"white\",\"linecolor\":\"white\",\"ticks\":\"\"},\"radialaxis\":{\"gridcolor\":\"white\",\"linecolor\":\"white\",\"ticks\":\"\"}},\"ternary\":{\"bgcolor\":\"#E5ECF6\",\"aaxis\":{\"gridcolor\":\"white\",\"linecolor\":\"white\",\"ticks\":\"\"},\"baxis\":{\"gridcolor\":\"white\",\"linecolor\":\"white\",\"ticks\":\"\"},\"caxis\":{\"gridcolor\":\"white\",\"linecolor\":\"white\",\"ticks\":\"\"}},\"coloraxis\":{\"colorbar\":{\"outlinewidth\":0,\"ticks\":\"\"}},\"colorscale\":{\"sequential\":[[0.0,\"#0d0887\"],[0.1111111111111111,\"#46039f\"],[0.2222222222222222,\"#7201a8\"],[0.3333333333333333,\"#9c179e\"],[0.4444444444444444,\"#bd3786\"],[0.5555555555555556,\"#d8576b\"],[0.6666666666666666,\"#ed7953\"],[0.7777777777777778,\"#fb9f3a\"],[0.8888888888888888,\"#fdca26\"],[1.0,\"#f0f921\"]],\"sequentialminus\":[[0.0,\"#0d0887\"],[0.1111111111111111,\"#46039f\"],[0.2222222222222222,\"#7201a8\"],[0.3333333333333333,\"#9c179e\"],[0.4444444444444444,\"#bd3786\"],[0.5555555555555556,\"#d8576b\"],[0.6666666666666666,\"#ed7953\"],[0.7777777777777778,\"#fb9f3a\"],[0.8888888888888888,\"#fdca26\"],[1.0,\"#f0f921\"]],\"diverging\":[[0,\"#8e0152\"],[0.1,\"#c51b7d\"],[0.2,\"#de77ae\"],[0.3,\"#f1b6da\"],[0.4,\"#fde0ef\"],[0.5,\"#f7f7f7\"],[0.6,\"#e6f5d0\"],[0.7,\"#b8e186\"],[0.8,\"#7fbc41\"],[0.9,\"#4d9221\"],[1,\"#276419\"]]},\"xaxis\":{\"gridcolor\":\"white\",\"linecolor\":\"white\",\"ticks\":\"\",\"title\":{\"standoff\":15},\"zerolinecolor\":\"white\",\"automargin\":true,\"zerolinewidth\":2},\"yaxis\":{\"gridcolor\":\"white\",\"linecolor\":\"white\",\"ticks\":\"\",\"title\":{\"standoff\":15},\"zerolinecolor\":\"white\",\"automargin\":true,\"zerolinewidth\":2},\"scene\":{\"xaxis\":{\"backgroundcolor\":\"#E5ECF6\",\"gridcolor\":\"white\",\"linecolor\":\"white\",\"showbackground\":true,\"ticks\":\"\",\"zerolinecolor\":\"white\",\"gridwidth\":2},\"yaxis\":{\"backgroundcolor\":\"#E5ECF6\",\"gridcolor\":\"white\",\"linecolor\":\"white\",\"showbackground\":true,\"ticks\":\"\",\"zerolinecolor\":\"white\",\"gridwidth\":2},\"zaxis\":{\"backgroundcolor\":\"#E5ECF6\",\"gridcolor\":\"white\",\"linecolor\":\"white\",\"showbackground\":true,\"ticks\":\"\",\"zerolinecolor\":\"white\",\"gridwidth\":2}},\"shapedefaults\":{\"line\":{\"color\":\"#2a3f5f\"}},\"annotationdefaults\":{\"arrowcolor\":\"#2a3f5f\",\"arrowhead\":0,\"arrowwidth\":1},\"geo\":{\"bgcolor\":\"white\",\"landcolor\":\"#E5ECF6\",\"subunitcolor\":\"white\",\"showland\":true,\"showlakes\":true,\"lakecolor\":\"white\"},\"title\":{\"x\":0.05},\"mapbox\":{\"style\":\"light\"}}},\"xaxis\":{\"anchor\":\"y\",\"domain\":[0.0,1.0],\"title\":{\"text\":\"month_created\"}},\"yaxis\":{\"anchor\":\"x\",\"domain\":[0.0,1.0],\"title\":{\"text\":\"count\"}},\"legend\":{\"tracegroupgap\":0},\"margin\":{\"t\":60},\"barmode\":\"relative\",\"title\":{\"text\":\"\\u0414\\u0438\\u043d\\u0430\\u043c\\u0438\\u043a\\u0430 \\u043a\\u043e\\u043b\\u0438\\u0447\\u0435\\u0441\\u0442\\u0432\\u0430 \\u0432\\u0430\\u043a\\u0430\\u043d\\u0441\\u0438\\u0439 \\u043f\\u043e \\u043c\\u0435\\u0441\\u044f\\u0446\\u0430\\u043c \\u0434\\u0430\\u0442\\u044b \\u0441\\u043e\\u0437\\u0434\\u0430\\u043d\\u0438\\u044f\"}},                        {\"responsive\": true}                    ).then(function(){\n",
              "                            \n",
              "var gd = document.getElementById('2d46ad25-8764-432c-be6f-dad9718f34fc');\n",
              "var x = new MutationObserver(function (mutations, observer) {{\n",
              "        var display = window.getComputedStyle(gd).display;\n",
              "        if (!display || display === 'none') {{\n",
              "            console.log([gd, 'removed!']);\n",
              "            Plotly.purge(gd);\n",
              "            observer.disconnect();\n",
              "        }}\n",
              "}});\n",
              "\n",
              "// Listen for the removal of the full notebook cells\n",
              "var notebookContainer = gd.closest('#notebook-container');\n",
              "if (notebookContainer) {{\n",
              "    x.observe(notebookContainer, {childList: true});\n",
              "}}\n",
              "\n",
              "// Listen for the clearing of the current output cell\n",
              "var outputEl = gd.closest('.output');\n",
              "if (outputEl) {{\n",
              "    x.observe(outputEl, {childList: true});\n",
              "}}\n",
              "\n",
              "                        })                };                            </script>        </div>\n",
              "</body>\n",
              "</html>"
            ]
          },
          "metadata": {}
        }
      ]
    },
    {
      "cell_type": "markdown",
      "metadata": {
        "id": "W_zI3jXmV7zq"
      },
      "source": [
        "#### 6. Напишите функцию для поиска вакансий по переданным в нее значениям заработной платы, наличия тестового задания, наличия заданного текста в наименовании вакансии, наличия заданного навыка. В результате выведите количество найденных вакансий, среднюю заработную плату по найденным вакансиям и список ссылок найденных вакансий. "
      ]
    },
    {
      "cell_type": "code",
      "execution_count": null,
      "metadata": {
        "id": "57CFGf4_V7zr",
        "colab": {
          "base_uri": "https://localhost:8080/"
        },
        "outputId": "6ae89050-3d41-418f-d00e-f942d7177281"
      },
      "outputs": [
        {
          "output_type": "stream",
          "name": "stdout",
          "text": [
            "6\n",
            "146666.66666666666\n",
            "['https://hh.ru/applicant/vacancy_response?vacancyId=46582713', 'https://hh.ru/applicant/vacancy_response?vacancyId=46693471', 'https://hh.ru/applicant/vacancy_response?vacancyId=46550714', 'https://hh.ru/applicant/vacancy_response?vacancyId=45062852', 'https://hh.ru/applicant/vacancy_response?vacancyId=46212451', 'https://hh.ru/applicant/vacancy_response?vacancyId=46529767']\n"
          ]
        }
      ],
      "source": [
        "#Делаем df таким же, как df4, так как в нем содержится столбец со средней зарплатой\n",
        "df = df4\n",
        "def search_vacancies(salary_from=None, salary_to=None, has_test=None, text_in_vacancy=None, text_in_skill=None):\n",
        "    #Фильтруем по переданным параметрам\n",
        "    filtered_df = df.copy() #Скопируем на всякий случай\n",
        "\n",
        "    if salary_from is not None:\n",
        "        filtered_df = filtered_df[filtered_df['salary_from'] >= salary_from] \n",
        "    \n",
        "    if salary_to is not None:\n",
        "        filtered_df = filtered_df[filtered_df['salary_to'] <= salary_to]\n",
        "    \n",
        "    if has_test is not None:\n",
        "        filtered_df = filtered_df[filtered_df['has_test'] == has_test]\n",
        "    \n",
        "    if text_in_vacancy is not None:\n",
        "        #Используя, регулярные выражения делаем поиск указанного слова в названии самой вакансии\n",
        "        pattern = re.compile(text_in_vacancy, flags=re.IGNORECASE)\n",
        "        filtered_df = filtered_df[filtered_df['vacancy'].str.contains(pattern)]\n",
        "    if text_in_skill is not None:\n",
        "        #Используя, регулярные выражения делаем поиск указанного слова в скиллах\n",
        "        pattern = re.compile(text_in_skill, flags=re.IGNORECASE)\n",
        "        filtered_df = filtered_df[filtered_df['skills'].str.contains(pattern)]\n",
        "    \n",
        "    #Подсчитываем количество найденных вакансий и среднюю зарплату\n",
        "    num_vacancies = len(filtered_df)\n",
        "    mean_salary = filtered_df['mean_salary'].mean()\n",
        "    \n",
        "    #Получаем список ссылок на найденные вакансии\n",
        "    vacancy_links = filtered_df['url'].tolist()\n",
        "    \n",
        "    return num_vacancies, mean_salary, vacancy_links\n",
        "\n",
        "result = search_vacancies(100000, 220000, False, 'QA', 'Python')\n",
        "for i in result:\n",
        "  print(i)"
      ]
    },
    {
      "cell_type": "markdown",
      "metadata": {
        "id": "IfoPgRzVV7zr"
      },
      "source": [
        "#### *Необязательно*. Усложненный вариант - сделать атрибуты функции опциональными, чтобы иметь возможность фильтрации вакансий по любой комбинации условий."
      ]
    },
    {
      "cell_type": "code",
      "execution_count": null,
      "metadata": {
        "id": "dOXt4KvSV7zr",
        "colab": {
          "base_uri": "https://localhost:8080/"
        },
        "outputId": "d9f6faf8-4d97-42af-d8cd-df2e8211ca5d"
      },
      "outputs": [
        {
          "output_type": "stream",
          "name": "stdout",
          "text": [
            "8\n",
            "148750.0\n",
            "['https://hh.ru/applicant/vacancy_response?vacancyId=45783106', 'https://hh.ru/applicant/vacancy_response?vacancyId=46703958', 'https://hh.ru/applicant/vacancy_response?vacancyId=46582713', 'https://hh.ru/applicant/vacancy_response?vacancyId=43954953', 'https://hh.ru/applicant/vacancy_response?vacancyId=46550714', 'https://hh.ru/applicant/vacancy_response?vacancyId=44868124', 'https://hh.ru/applicant/vacancy_response?vacancyId=46212451', 'https://hh.ru/applicant/vacancy_response?vacancyId=46529767']\n"
          ]
        }
      ],
      "source": [
        "#См. предыдущее задание\n",
        "result2 = search_vacancies(salary_to=500000, text_in_skill='SQL')\n",
        "for i in result2:\n",
        "  print(i)\n"
      ]
    }
  ],
  "metadata": {
    "kernelspec": {
      "display_name": "Python 3 (ipykernel)",
      "language": "python",
      "name": "python3"
    },
    "language_info": {
      "codemirror_mode": {
        "name": "ipython",
        "version": 3
      },
      "file_extension": ".py",
      "mimetype": "text/x-python",
      "name": "python",
      "nbconvert_exporter": "python",
      "pygments_lexer": "ipython3",
      "version": "3.9.13"
    },
    "colab": {
      "provenance": []
    }
  },
  "nbformat": 4,
  "nbformat_minor": 0
}